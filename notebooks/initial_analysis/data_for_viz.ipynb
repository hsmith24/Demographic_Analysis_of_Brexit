{
 "cells": [
  {
   "cell_type": "code",
   "execution_count": 1,
   "metadata": {},
   "outputs": [],
   "source": [
    "\n",
    "import pandas as pd\n",
    "import numpy as np\n",
    "import matplotlib.pyplot as plt\n",
    "import seaborn as sns\n",
    "\n",
    "\n",
    "pd.set_option('display.max_rows', 500)\n",
    "pd.set_option('display.max_columns', 500)\n",
    "pd.set_option('display.max_seq_items', 1000)\n",
    "%matplotlib inline\n"
   ]
  },
  {
   "cell_type": "markdown",
   "metadata": {},
   "source": [
    "## Call atlas data"
   ]
  },
  {
   "cell_type": "code",
   "execution_count": 2,
   "metadata": {
    "scrolled": true
   },
   "outputs": [
    {
     "name": "stderr",
     "output_type": "stream",
     "text": [
      "/Users/harry/opt/anaconda3/lib/python3.7/site-packages/IPython/core/interactiveshell.py:3063: DtypeWarning: Columns (7,17,18,21,22,24,25,29,32,39,47) have mixed types.Specify dtype option on import or set low_memory=False.\n",
      "  interactivity=interactivity, compiler=compiler, result=result)\n"
     ]
    }
   ],
   "source": [
    "df = pd.read_csv('../../data/external/postcodes.csv')"
   ]
  },
  {
   "cell_type": "code",
   "execution_count": 3,
   "metadata": {},
   "outputs": [],
   "source": [
    "df = df[['Ward', 'Ward Code', 'Latitude', 'Longitude', 'Population',\n",
    "       'Index of Multiple Deprivation',\n",
    "       'Average Income', 'Region']].dropna(subset=['Ward', 'Ward Code'])"
   ]
  },
  {
   "cell_type": "code",
   "execution_count": 4,
   "metadata": {
    "scrolled": true
   },
   "outputs": [
    {
     "data": {
      "text/plain": [
       "Ward                                   0\n",
       "Ward Code                              0\n",
       "Latitude                               0\n",
       "Longitude                              0\n",
       "Population                       1129958\n",
       "Index of Multiple Deprivation          0\n",
       "Average Income                    283943\n",
       "Region                            422618\n",
       "dtype: int64"
      ]
     },
     "execution_count": 4,
     "metadata": {},
     "output_type": "execute_result"
    }
   ],
   "source": [
    "df.isnull().sum(axis = 0)"
   ]
  },
  {
   "cell_type": "code",
   "execution_count": 5,
   "metadata": {},
   "outputs": [
    {
     "data": {
      "text/plain": [
       "(2620747, 8)"
      ]
     },
     "execution_count": 5,
     "metadata": {},
     "output_type": "execute_result"
    }
   ],
   "source": [
    "df.shape"
   ]
  },
  {
   "cell_type": "code",
   "execution_count": 6,
   "metadata": {},
   "outputs": [
    {
     "data": {
      "text/plain": [
       "Index(['Ward', 'Ward Code', 'Latitude', 'Longitude', 'Population',\n",
       "       'Index of Multiple Deprivation', 'Average Income', 'Region'],\n",
       "      dtype='object')"
      ]
     },
     "execution_count": 6,
     "metadata": {},
     "output_type": "execute_result"
    }
   ],
   "source": [
    "df.columns"
   ]
  },
  {
   "cell_type": "markdown",
   "metadata": {
    "scrolled": false
   },
   "source": [
    "## Group data by ward code"
   ]
  },
  {
   "cell_type": "code",
   "execution_count": 7,
   "metadata": {},
   "outputs": [],
   "source": [
    "location_df = (df.groupby(['Ward Code', 'Ward'], as_index=False)\n",
    "   .agg({'Region':'first', 'Latitude':'first', 'Longitude':'first', 'Population':'mean', 'Index of Multiple Deprivation':'mean',\n",
    "         'Average Income':'mean'}))"
   ]
  },
  {
   "cell_type": "code",
   "execution_count": 8,
   "metadata": {},
   "outputs": [
    {
     "data": {
      "text/plain": [
       "Ward Code                           0\n",
       "Ward                                0\n",
       "Region                           1668\n",
       "Latitude                            0\n",
       "Longitude                           0\n",
       "Population                          0\n",
       "Index of Multiple Deprivation       0\n",
       "Average Income                    816\n",
       "dtype: int64"
      ]
     },
     "execution_count": 8,
     "metadata": {},
     "output_type": "execute_result"
    }
   ],
   "source": [
    "location_df.isnull().sum(axis = 0)"
   ]
  },
  {
   "cell_type": "code",
   "execution_count": 9,
   "metadata": {},
   "outputs": [
    {
     "data": {
      "text/plain": [
       "(8815, 8)"
      ]
     },
     "execution_count": 9,
     "metadata": {},
     "output_type": "execute_result"
    }
   ],
   "source": [
    "location_df.shape"
   ]
  },
  {
   "cell_type": "markdown",
   "metadata": {},
   "source": [
    "## Make ward atlas data"
   ]
  },
  {
   "cell_type": "code",
   "execution_count": 10,
   "metadata": {},
   "outputs": [],
   "source": [
    "ward_df = pd.read_excel('../../data/external/ward-results.xlsx').dropna(subset=['Remain', 'Leave'])"
   ]
  },
  {
   "cell_type": "code",
   "execution_count": 11,
   "metadata": {},
   "outputs": [
    {
     "data": {
      "text/plain": [
       "(1283, 8)"
      ]
     },
     "execution_count": 11,
     "metadata": {},
     "output_type": "execute_result"
    }
   ],
   "source": [
    "ward_df.shape\n"
   ]
  },
  {
   "cell_type": "code",
   "execution_count": 12,
   "metadata": {},
   "outputs": [],
   "source": [
    "location_df.rename(columns={\"Ward Code\": \"WardCode\"}, inplace=True)"
   ]
  },
  {
   "cell_type": "code",
   "execution_count": 13,
   "metadata": {},
   "outputs": [],
   "source": [
    "ward_atlas_df = (pd.merge(location_df, ward_df, how='inner', on='WardCode')\n",
    "                   .drop(columns=['WardName', 'CountingArea', 'Postals', 'Remain', 'Leave'])\n",
    "                   .dropna(subset=['Average Income']))"
   ]
  },
  {
   "cell_type": "code",
   "execution_count": 14,
   "metadata": {},
   "outputs": [],
   "source": [
    "ward_atlas_df['Leave?'] = (ward_atlas_df['Leave%'] >= ward_atlas_df['Remain%']).astype(int)"
   ]
  },
  {
   "cell_type": "code",
   "execution_count": 15,
   "metadata": {},
   "outputs": [],
   "source": [
    "ward_atlas_df['Deficitsq'] = ((ward_atlas_df['Leave%'] - ward_atlas_df['Remain%'])**2).astype(float)"
   ]
  },
  {
   "cell_type": "code",
   "execution_count": 16,
   "metadata": {},
   "outputs": [],
   "source": [
    "ward_atlas_df['Deficit'] = (abs(ward_atlas_df['Leave%'] - ward_atlas_df['Remain%'])).astype(float)"
   ]
  },
  {
   "cell_type": "code",
   "execution_count": 17,
   "metadata": {},
   "outputs": [
    {
     "data": {
      "text/html": [
       "<div>\n",
       "<style scoped>\n",
       "    .dataframe tbody tr th:only-of-type {\n",
       "        vertical-align: middle;\n",
       "    }\n",
       "\n",
       "    .dataframe tbody tr th {\n",
       "        vertical-align: top;\n",
       "    }\n",
       "\n",
       "    .dataframe thead th {\n",
       "        text-align: right;\n",
       "    }\n",
       "</style>\n",
       "<table border=\"1\" class=\"dataframe\">\n",
       "  <thead>\n",
       "    <tr style=\"text-align: right;\">\n",
       "      <th></th>\n",
       "      <th>WardCode</th>\n",
       "      <th>Ward</th>\n",
       "      <th>Region</th>\n",
       "      <th>Latitude</th>\n",
       "      <th>Longitude</th>\n",
       "      <th>Population</th>\n",
       "      <th>Index of Multiple Deprivation</th>\n",
       "      <th>Average Income</th>\n",
       "      <th>Remain%</th>\n",
       "      <th>Leave%</th>\n",
       "      <th>Leave?</th>\n",
       "      <th>Deficitsq</th>\n",
       "      <th>Deficit</th>\n",
       "    </tr>\n",
       "  </thead>\n",
       "  <tbody>\n",
       "    <tr>\n",
       "      <th>0</th>\n",
       "      <td>E05000106</td>\n",
       "      <td>Bickley</td>\n",
       "      <td>London</td>\n",
       "      <td>51.403386</td>\n",
       "      <td>0.043619</td>\n",
       "      <td>43.231429</td>\n",
       "      <td>26731.237245</td>\n",
       "      <td>65522.448980</td>\n",
       "      <td>55.741321</td>\n",
       "      <td>44.258679</td>\n",
       "      <td>0</td>\n",
       "      <td>131.851079</td>\n",
       "      <td>11.482643</td>\n",
       "    </tr>\n",
       "    <tr>\n",
       "      <th>1</th>\n",
       "      <td>E05000107</td>\n",
       "      <td>Biggin Hill</td>\n",
       "      <td>London</td>\n",
       "      <td>51.319163</td>\n",
       "      <td>0.009060</td>\n",
       "      <td>49.093596</td>\n",
       "      <td>23854.819780</td>\n",
       "      <td>59529.670330</td>\n",
       "      <td>35.302391</td>\n",
       "      <td>64.697609</td>\n",
       "      <td>1</td>\n",
       "      <td>864.078841</td>\n",
       "      <td>29.395218</td>\n",
       "    </tr>\n",
       "    <tr>\n",
       "      <th>2</th>\n",
       "      <td>E05000108</td>\n",
       "      <td>Bromley Common and Keston</td>\n",
       "      <td>London</td>\n",
       "      <td>51.350450</td>\n",
       "      <td>0.034039</td>\n",
       "      <td>51.776632</td>\n",
       "      <td>21342.703608</td>\n",
       "      <td>59368.041237</td>\n",
       "      <td>47.217299</td>\n",
       "      <td>52.782701</td>\n",
       "      <td>1</td>\n",
       "      <td>30.973703</td>\n",
       "      <td>5.565402</td>\n",
       "    </tr>\n",
       "    <tr>\n",
       "      <th>3</th>\n",
       "      <td>E05000109</td>\n",
       "      <td>Bromley Town</td>\n",
       "      <td>London</td>\n",
       "      <td>51.401546</td>\n",
       "      <td>0.015415</td>\n",
       "      <td>48.155620</td>\n",
       "      <td>17205.781723</td>\n",
       "      <td>57839.813737</td>\n",
       "      <td>57.344262</td>\n",
       "      <td>42.655738</td>\n",
       "      <td>0</td>\n",
       "      <td>215.752755</td>\n",
       "      <td>14.688525</td>\n",
       "    </tr>\n",
       "    <tr>\n",
       "      <th>4</th>\n",
       "      <td>E05000110</td>\n",
       "      <td>Chelsfield and Pratts Bottom</td>\n",
       "      <td>London</td>\n",
       "      <td>51.369232</td>\n",
       "      <td>0.136792</td>\n",
       "      <td>43.411940</td>\n",
       "      <td>27848.258145</td>\n",
       "      <td>60107.017544</td>\n",
       "      <td>45.922747</td>\n",
       "      <td>54.077253</td>\n",
       "      <td>1</td>\n",
       "      <td>66.495975</td>\n",
       "      <td>8.154506</td>\n",
       "    </tr>\n",
       "  </tbody>\n",
       "</table>\n",
       "</div>"
      ],
      "text/plain": [
       "    WardCode                          Ward  Region   Latitude  Longitude  \\\n",
       "0  E05000106                       Bickley  London  51.403386   0.043619   \n",
       "1  E05000107                   Biggin Hill  London  51.319163   0.009060   \n",
       "2  E05000108     Bromley Common and Keston  London  51.350450   0.034039   \n",
       "3  E05000109                  Bromley Town  London  51.401546   0.015415   \n",
       "4  E05000110  Chelsfield and Pratts Bottom  London  51.369232   0.136792   \n",
       "\n",
       "   Population  Index of Multiple Deprivation  Average Income    Remain%  \\\n",
       "0   43.231429                   26731.237245    65522.448980  55.741321   \n",
       "1   49.093596                   23854.819780    59529.670330  35.302391   \n",
       "2   51.776632                   21342.703608    59368.041237  47.217299   \n",
       "3   48.155620                   17205.781723    57839.813737  57.344262   \n",
       "4   43.411940                   27848.258145    60107.017544  45.922747   \n",
       "\n",
       "      Leave%  Leave?   Deficitsq    Deficit  \n",
       "0  44.258679       0  131.851079  11.482643  \n",
       "1  64.697609       1  864.078841  29.395218  \n",
       "2  52.782701       1   30.973703   5.565402  \n",
       "3  42.655738       0  215.752755  14.688525  \n",
       "4  54.077253       1   66.495975   8.154506  "
      ]
     },
     "execution_count": 17,
     "metadata": {},
     "output_type": "execute_result"
    }
   ],
   "source": [
    "ward_atlas_df.head()"
   ]
  },
  {
   "cell_type": "code",
   "execution_count": 18,
   "metadata": {},
   "outputs": [
    {
     "data": {
      "text/plain": [
       "(1059, 13)"
      ]
     },
     "execution_count": 18,
     "metadata": {},
     "output_type": "execute_result"
    }
   ],
   "source": [
    "ward_atlas_df.shape"
   ]
  },
  {
   "cell_type": "code",
   "execution_count": 19,
   "metadata": {},
   "outputs": [
    {
     "data": {
      "text/plain": [
       "WardCode                         0\n",
       "Ward                             0\n",
       "Region                           0\n",
       "Latitude                         0\n",
       "Longitude                        0\n",
       "Population                       0\n",
       "Index of Multiple Deprivation    0\n",
       "Average Income                   0\n",
       "Remain%                          0\n",
       "Leave%                           0\n",
       "Leave?                           0\n",
       "Deficitsq                        0\n",
       "Deficit                          0\n",
       "dtype: int64"
      ]
     },
     "execution_count": 19,
     "metadata": {},
     "output_type": "execute_result"
    }
   ],
   "source": [
    "ward_atlas_df.isnull().sum(axis = 0)"
   ]
  },
  {
   "cell_type": "code",
   "execution_count": 20,
   "metadata": {},
   "outputs": [],
   "source": [
    "ward_atlas_df.to_csv('ward_atlas_data.csv')"
   ]
  }
 ],
 "metadata": {
  "kernelspec": {
   "display_name": "Python 3",
   "language": "python",
   "name": "python3"
  },
  "language_info": {
   "codemirror_mode": {
    "name": "ipython",
    "version": 3
   },
   "file_extension": ".py",
   "mimetype": "text/x-python",
   "name": "python",
   "nbconvert_exporter": "python",
   "pygments_lexer": "ipython3",
   "version": "3.7.6"
  }
 },
 "nbformat": 4,
 "nbformat_minor": 4
}
