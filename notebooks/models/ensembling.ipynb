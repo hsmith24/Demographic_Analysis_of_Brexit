{
 "cells": [
  {
   "cell_type": "code",
   "execution_count": 1,
   "metadata": {},
   "outputs": [],
   "source": [
    "import pandas as pd\n",
    "import numpy as np\n",
    "\n",
    "from sklearn import model_selection\n",
    "from sklearn import linear_model, svm, naive_bayes, neighbors, ensemble\n",
    "from sklearn.preprocessing import StandardScaler\n",
    "from sklearn.model_selection import cross_val_score, cross_validate\n",
    "from sklearn.ensemble import VotingClassifier\n",
    "from sklearn.metrics import accuracy_score, precision_score, recall_score, roc_auc_score\n",
    "import imblearn.over_sampling\n",
    "from collections import Counter"
   ]
  },
  {
   "cell_type": "code",
   "execution_count": 2,
   "metadata": {},
   "outputs": [],
   "source": [
    "df = pd.read_csv('../../data/processed/fetzer_processed_data.csv')"
   ]
  },
  {
   "cell_type": "code",
   "execution_count": 3,
   "metadata": {},
   "outputs": [],
   "source": [
    "X = pd.get_dummies(df.loc[:, 'Region':'NONEU_2001Migrantshare'])\n",
    "y = df.loc[:,'Leave?']\n",
    "X, X_test, y, y_test = model_selection.train_test_split(X, y, test_size=0.2, random_state=27)"
   ]
  },
  {
   "cell_type": "code",
   "execution_count": 4,
   "metadata": {},
   "outputs": [],
   "source": [
    "scaler = StandardScaler()\n",
    "X = scaler.fit_transform(X)\n",
    "X_test = scaler.transform(X_test)"
   ]
  },
  {
   "cell_type": "code",
   "execution_count": 5,
   "metadata": {},
   "outputs": [],
   "source": [
    "# # PICKLING SCALER\n",
    "# import pickle\n",
    "# pickle.dump(scaler, open(\"my_pickled_scaler.p\", \"wb\"))"
   ]
  },
  {
   "cell_type": "markdown",
   "metadata": {},
   "source": [
    "## Oversample"
   ]
  },
  {
   "cell_type": "code",
   "execution_count": 6,
   "metadata": {},
   "outputs": [
    {
     "data": {
      "text/plain": [
       "(210, 91)"
      ]
     },
     "execution_count": 6,
     "metadata": {},
     "output_type": "execute_result"
    }
   ],
   "source": [
    "n_pos = np.sum(y == 1)\n",
    "n_neg = np.sum(y == 0)\n",
    "n_pos, n_neg"
   ]
  },
  {
   "cell_type": "code",
   "execution_count": 7,
   "metadata": {},
   "outputs": [],
   "source": [
    "# # OVERSAMPLE NEGATIVES BY A FACTOR OF 2\n",
    "# ratio = {1 : n_pos, 0 : n_neg * 2}\n",
    "# ROS = imblearn.over_sampling.RandomOverSampler(sampling_strategy = ratio, random_state=42) \n",
    "\n",
    "# X, y = ROS.fit_sample(X, y)"
   ]
  },
  {
   "cell_type": "markdown",
   "metadata": {},
   "source": [
    "## Make models"
   ]
  },
  {
   "cell_type": "code",
   "execution_count": 8,
   "metadata": {},
   "outputs": [],
   "source": [
    "lr_model = linear_model.LogisticRegression(solver=\"lbfgs\")\n",
    "nb_model = naive_bayes.BernoulliNB()\n",
    "svc_model = svm.SVC(probability=True, gamma=\"scale\")\n",
    "rf_model = ensemble.RandomForestClassifier(n_estimators=28, random_state=3)\n",
    "\n",
    "models = [\"lr_model\", \"nb_model\", \"svc_model\", \"rf_model\"]\n",
    "model_vars = [eval(n) for n in models]\n",
    "model_list = list(zip(models, model_vars))"
   ]
  },
  {
   "cell_type": "markdown",
   "metadata": {},
   "source": [
    "## Try max voting ensemble"
   ]
  },
  {
   "cell_type": "code",
   "execution_count": 9,
   "metadata": {
    "scrolled": false
   },
   "outputs": [
    {
     "name": "stdout",
     "output_type": "stream",
     "text": [
      "Accuracy: 0.882\n",
      "Precision: 0.906\n",
      "Recall: 0.923\n",
      "ROC AUC: 0.857\n"
     ]
    }
   ],
   "source": [
    "voting_classifer = VotingClassifier(estimators=model_list, voting='hard', n_jobs=-1)\n",
    "voting_classifer.fit(X, y)\n",
    "y_pred = voting_classifer.predict(X_test)\n",
    "\n",
    "print(f'Accuracy: {accuracy_score(y_test, y_pred):.3f}')\n",
    "print(f'Precision: {precision_score(y_test, y_pred):.3f}')\n",
    "print(f'Recall: {recall_score(y_test, y_pred):.3f}')\n",
    "print(f'ROC AUC: {roc_auc_score(y_test, y_pred):.3f}')"
   ]
  },
  {
   "cell_type": "markdown",
   "metadata": {},
   "source": [
    "## Try average voting ensemble"
   ]
  },
  {
   "cell_type": "code",
   "execution_count": 10,
   "metadata": {},
   "outputs": [
    {
     "name": "stdout",
     "output_type": "stream",
     "text": [
      "Accuracy: 0.895\n",
      "Precision: 0.893\n",
      "Recall: 0.962\n",
      "ROC AUC: 0.856\n"
     ]
    }
   ],
   "source": [
    "voting_classifer = VotingClassifier(estimators=model_list, voting='soft', n_jobs=-1)\n",
    "voting_classifer.fit(X, y)\n",
    "y_pred = voting_classifer.predict(X_test)\n",
    "\n",
    "print(f'Accuracy: {accuracy_score(y_test, y_pred):.3f}')\n",
    "print(f'Precision: {precision_score(y_test, y_pred):.3f}')\n",
    "print(f'Recall: {recall_score(y_test, y_pred):.3f}')\n",
    "print(f'ROC AUC: {roc_auc_score(y_test, y_pred):.3f}')"
   ]
  },
  {
   "cell_type": "markdown",
   "metadata": {},
   "source": [
    "## Try weighted voting ensemble"
   ]
  },
  {
   "cell_type": "code",
   "execution_count": 11,
   "metadata": {},
   "outputs": [],
   "source": [
    "# THIS I A PRETTY GOOD WEIGHT\n",
    "weights = [1.7, 0.7, 0.5, 1]"
   ]
  },
  {
   "cell_type": "code",
   "execution_count": 12,
   "metadata": {},
   "outputs": [
    {
     "name": "stdout",
     "output_type": "stream",
     "text": [
      "Accuracy: 0.895\n",
      "Precision: 0.879\n",
      "Recall: 0.981\n",
      "ROC AUC: 0.845\n"
     ]
    }
   ],
   "source": [
    "voting_classifer = VotingClassifier(estimators=model_list, voting='soft', weights = weights)\n",
    "voting_classifer.fit(X, y)\n",
    "y_pred = voting_classifer.predict(X_test)\n",
    "\n",
    "print(f'Accuracy: {accuracy_score(y_test, y_pred):.3f}')\n",
    "print(f'Precision: {precision_score(y_test, y_pred):.3f}')\n",
    "print(f'Recall: {recall_score(y_test, y_pred):.3f}')\n",
    "print(f'ROC AUC: {roc_auc_score(y_test, y_pred):.3f}')"
   ]
  },
  {
   "cell_type": "code",
   "execution_count": 13,
   "metadata": {},
   "outputs": [],
   "source": [
    "# # PICKLING FINAL MODEL\n",
    "# model = voting_classifer\n",
    "# import pickle\n",
    "# pickle.dump(model, open(\"my_pickled_model.p\", \"wb\"))"
   ]
  },
  {
   "cell_type": "markdown",
   "metadata": {},
   "source": [
    "## Tune the weights"
   ]
  },
  {
   "cell_type": "code",
   "execution_count": 14,
   "metadata": {
    "scrolled": true
   },
   "outputs": [
    {
     "name": "stdout",
     "output_type": "stream",
     "text": [
      "(2, 0, 0, 1) 0.8862179487179488\n",
      "(1, 0, 0, 1) 0.8653846153846154\n",
      "(2, 0, 0, 2) 0.8653846153846154\n",
      "(1, 0, 0, 2) 0.8557692307692308\n",
      "(1, 1, 1, 1) 0.8557692307692308\n",
      "(2, 1, 0, 1) 0.8557692307692308\n",
      "(2, 1, 1, 1) 0.844551282051282\n",
      "(1, 0, 1, 1) 0.8349358974358974\n",
      "(1, 0, 1, 2) 0.8349358974358974\n",
      "(1, 1, 0, 1) 0.8349358974358974\n",
      "(1, 1, 1, 2) 0.8349358974358974\n",
      "(2, 0, 1, 2) 0.8349358974358974\n",
      "(2, 1, 0, 2) 0.8349358974358974\n",
      "(2, 1, 1, 2) 0.8349358974358974\n",
      "(1, 1, 0, 2) 0.8253205128205128\n",
      "(2, 0, 1, 1) 0.8237179487179488\n"
     ]
    }
   ],
   "source": [
    "scores = {}\n",
    "\n",
    "for i in range(1,3):\n",
    "    for j in range(0,2):\n",
    "        for k in range(0,2):\n",
    "            for l in range(1,3):\n",
    "                weights = [i, j, k, l]\n",
    "                voting_classifer = VotingClassifier(estimators=model_list, voting='soft', weights = weights)\n",
    "                voting_classifer.fit(X, y)\n",
    "                y_pred = voting_classifer.predict(X_test)\n",
    "                \n",
    "                scores[(i, j, k, l)] = roc_auc_score(y_test, y_pred)\n",
    "                \n",
    "                \n",
    "sort_scores = sorted(scores.items(), key=lambda x: x[1], reverse=True)\n",
    "\n",
    "for i in sort_scores:\n",
    "    print(i[0], i[1])             \n",
    "                "
   ]
  },
  {
   "cell_type": "code",
   "execution_count": 15,
   "metadata": {},
   "outputs": [
    {
     "data": {
      "text/plain": [
       "((2, 0, 0, 1), 0.8862179487179488)"
      ]
     },
     "execution_count": 15,
     "metadata": {},
     "output_type": "execute_result"
    }
   ],
   "source": [
    "sort_scores[0]"
   ]
  }
 ],
 "metadata": {
  "kernelspec": {
   "display_name": "Python 3",
   "language": "python",
   "name": "python3"
  },
  "language_info": {
   "codemirror_mode": {
    "name": "ipython",
    "version": 3
   },
   "file_extension": ".py",
   "mimetype": "text/x-python",
   "name": "python",
   "nbconvert_exporter": "python",
   "pygments_lexer": "ipython3",
   "version": "3.7.6"
  }
 },
 "nbformat": 4,
 "nbformat_minor": 4
}
