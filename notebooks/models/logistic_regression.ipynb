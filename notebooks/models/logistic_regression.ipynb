{
 "cells": [
  {
   "cell_type": "code",
   "execution_count": 1,
   "metadata": {},
   "outputs": [],
   "source": [
    "import pandas as pd\n",
    "import numpy as np\n",
    "\n",
    "from sklearn import model_selection\n",
    "from sklearn import linear_model, svm, naive_bayes, neighbors, ensemble\n",
    "from sklearn.preprocessing import StandardScaler\n",
    "from sklearn.model_selection import cross_val_score, cross_validate, KFold\n",
    "from imblearn.over_sampling import RandomOverSampler\n",
    "from sklearn.metrics import accuracy_score, precision_score, recall_score, roc_auc_score\n",
    "from sklearn.ensemble import RandomForestClassifier\n",
    "from sklearn.inspection import permutation_importance"
   ]
  },
  {
   "cell_type": "markdown",
   "metadata": {},
   "source": [
    "## Call data, choose features and target"
   ]
  },
  {
   "cell_type": "code",
   "execution_count": 2,
   "metadata": {},
   "outputs": [],
   "source": [
    "df = pd.read_csv('../../data/processed/fetzer_processed_data.csv')"
   ]
  },
  {
   "cell_type": "code",
   "execution_count": 3,
   "metadata": {},
   "outputs": [],
   "source": [
    "X = pd.get_dummies(df.loc[:, 'Region':'NONEU_2001Migrantshare'])\n",
    "y = df.loc[:,'Leave?']\n",
    "# X, X_test, y, y_test = model_selection.train_test_split(X, y, test_size=0.2)"
   ]
  },
  {
   "cell_type": "code",
   "execution_count": 4,
   "metadata": {},
   "outputs": [],
   "source": [
    "scaler = StandardScaler()\n",
    "X = scaler.fit_transform(X)\n",
    "# X_test = scaler.transform(X_test)"
   ]
  },
  {
   "cell_type": "code",
   "execution_count": 5,
   "metadata": {},
   "outputs": [
    {
     "data": {
      "text/plain": [
       "1    262\n",
       "0    115\n",
       "Name: Leave?, dtype: int64"
      ]
     },
     "execution_count": 5,
     "metadata": {},
     "output_type": "execute_result"
    }
   ],
   "source": [
    "y.value_counts()"
   ]
  },
  {
   "cell_type": "markdown",
   "metadata": {},
   "source": [
    "## Make a logistic regression cross validation"
   ]
  },
  {
   "cell_type": "code",
   "execution_count": 6,
   "metadata": {},
   "outputs": [
    {
     "name": "stdout",
     "output_type": "stream",
     "text": [
      "Accuracy: 0.883 +- 0.037\n",
      "Precision: 0.898 +- 0.052\n",
      "Recall: 0.937 +- 0.026\n",
      "ROC AUC: 0.850 +- 0.040\n"
     ]
    }
   ],
   "source": [
    "kf = KFold(n_splits=3, shuffle=True, random_state = 11)\n",
    "accuracies = [] \n",
    "precisions = [] \n",
    "recalls = [] \n",
    "roc_aucs = []\n",
    "\n",
    "for train_ind, val_ind in kf.split(X,y):\n",
    "    \n",
    "    X_train, y_train = X[train_ind], y[train_ind]\n",
    "    X_val, y_val = X[val_ind], y[val_ind] \n",
    "    \n",
    "    lr_model = linear_model.LogisticRegression(solver=\"lbfgs\")\n",
    "    lr_model.fit(X_train, y_train)\n",
    "    y_pred = (lr_model.predict_proba(X_val)[:, 1] >= 0.55)\n",
    "    \n",
    "    accuracies.append(accuracy_score(y_val, y_pred))\n",
    "    precisions.append(precision_score(y_val, y_pred))\n",
    "    recalls.append(recall_score(y_val, y_pred))\n",
    "    roc_aucs.append(roc_auc_score(y_val, y_pred))\n",
    "\n",
    "\n",
    "print(f'Accuracy: {np.mean(accuracies):.3f} +- {np.std(accuracies):.3f}')\n",
    "print(f'Precision: {np.mean(precisions):.3f} +- {np.std(precisions):.3f}')\n",
    "print(f'Recall: {np.mean(recalls):.3f} +- {np.std(recalls):.3f}')\n",
    "print(f'ROC AUC: {np.mean(roc_aucs):.3f} +- {np.std(roc_aucs):.3f}')"
   ]
  },
  {
   "cell_type": "markdown",
   "metadata": {},
   "source": [
    "## Tuning C-value"
   ]
  },
  {
   "cell_type": "code",
   "execution_count": 7,
   "metadata": {
    "scrolled": true
   },
   "outputs": [
    {
     "data": {
      "text/plain": [
       "{1e-05: 0.5,\n",
       " 0.0001: 0.5,\n",
       " 0.001: 0.5329022988505747,\n",
       " 0.01: 0.7638938793186791,\n",
       " 0.1: 0.8035665516998929,\n",
       " 1: 0.8497081867647136,\n",
       " 10: 0.8420002760142064,\n",
       " 100: 0.8420002760142064,\n",
       " 1000: 0.8420002760142064,\n",
       " 10000: 0.8420002760142064}"
      ]
     },
     "execution_count": 7,
     "metadata": {},
     "output_type": "execute_result"
    }
   ],
   "source": [
    "# BEST C-VALUE IS 1\n",
    "scores = {}\n",
    "c_values = [0.00001, 0.0001, 0.001, 0.01, 0.1, 1, 10, 100, 1000, 10000]\n",
    "\n",
    "for i in range(0,10):\n",
    "    kf = KFold(n_splits=3, shuffle=True, random_state = 11)\n",
    "    roc_aucs = []\n",
    "    c_value = c_values[i]\n",
    "    \n",
    "    for train_ind, val_ind in kf.split(X,y):\n",
    "        \n",
    "        X_train, y_train = X[train_ind], y[train_ind]\n",
    "        X_val, y_val = X[val_ind], y[val_ind] \n",
    "        \n",
    "        lr_model = linear_model.LogisticRegression(solver=\"lbfgs\", C=c_value)\n",
    "        lr_model.fit(X_train, y_train)\n",
    "        y_pred = (lr_model.predict_proba(X_val)[:, 1] >= 0.55)\n",
    "\n",
    "        roc_aucs.append(roc_auc_score(y_val, y_pred))\n",
    "\n",
    "    scores[c_value] = np.mean(roc_aucs)\n",
    "    \n",
    "scores"
   ]
  },
  {
   "cell_type": "markdown",
   "metadata": {},
   "source": [
    "## Solver?"
   ]
  },
  {
   "cell_type": "code",
   "execution_count": 8,
   "metadata": {},
   "outputs": [
    {
     "name": "stderr",
     "output_type": "stream",
     "text": [
      "/Users/harry/opt/anaconda3/lib/python3.7/site-packages/sklearn/linear_model/_sag.py:330: ConvergenceWarning: The max_iter was reached which means the coef_ did not converge\n",
      "  \"the coef_ did not converge\", ConvergenceWarning)\n",
      "/Users/harry/opt/anaconda3/lib/python3.7/site-packages/sklearn/linear_model/_sag.py:330: ConvergenceWarning: The max_iter was reached which means the coef_ did not converge\n",
      "  \"the coef_ did not converge\", ConvergenceWarning)\n"
     ]
    },
    {
     "data": {
      "text/plain": [
       "{'newton-cg': 0.8497081867647136,\n",
       " 'lbfgs': 0.8497081867647136,\n",
       " 'liblinear': 0.8497081867647136,\n",
       " 'sag': 0.8497081867647136,\n",
       " 'saga': 0.8497081867647136}"
      ]
     },
     "execution_count": 8,
     "metadata": {},
     "output_type": "execute_result"
    }
   ],
   "source": [
    "# THESE ALL SEEM TO GIVE THE SAME VALUE, DONT REALLY UNDERSTAND WHAT THEY MEAN\n",
    "scores = {}\n",
    "solver_choices = ['newton-cg', 'lbfgs', 'liblinear', 'sag', 'saga']\n",
    "\n",
    "for i in range(0,5):\n",
    "    kf = KFold(n_splits=3, shuffle=True, random_state = 11)\n",
    "    roc_aucs = []\n",
    "    solver_choice = solver_choices[i]\n",
    "    \n",
    "    for train_ind, val_ind in kf.split(X,y):\n",
    "        \n",
    "        X_train, y_train = X[train_ind], y[train_ind]\n",
    "        X_val, y_val = X[val_ind], y[val_ind] \n",
    "        \n",
    "        lr_model = linear_model.LogisticRegression(solver=solver_choice, C=1)\n",
    "        lr_model.fit(X_train, y_train)\n",
    "        y_pred = (lr_model.predict_proba(X_val)[:, 1] >= 0.55)\n",
    "\n",
    "        roc_aucs.append(roc_auc_score(y_val, y_pred))\n",
    "\n",
    "    scores[solver_choice] = np.mean(roc_aucs)\n",
    "    \n",
    "scores"
   ]
  },
  {
   "cell_type": "markdown",
   "metadata": {},
   "source": [
    "## Tuning threshold"
   ]
  },
  {
   "cell_type": "code",
   "execution_count": 9,
   "metadata": {
    "scrolled": true
   },
   "outputs": [
    {
     "data": {
      "text/plain": [
       "{1: 0.5807283858070965,\n",
       " 2: 0.6509995002498751,\n",
       " 3: 0.6968140929535233,\n",
       " 4: 0.7223075962018991,\n",
       " 5: 0.7374250374812593,\n",
       " 6: 0.741591704147926,\n",
       " 7: 0.7452148925537231,\n",
       " 8: 0.7452148925537231,\n",
       " 9: 0.7545852073963019,\n",
       " 10: 0.7545852073963019,\n",
       " 11: 0.7618315842078961,\n",
       " 12: 0.7696214392803599,\n",
       " 13: 0.7737881059470265,\n",
       " 14: 0.7737881059470265,\n",
       " 15: 0.7754505100390982,\n",
       " 16: 0.781823059058706,\n",
       " 17: 0.781823059058706,\n",
       " 18: 0.7859897257253726,\n",
       " 19: 0.7859897257253726,\n",
       " 20: 0.7896535188288208,\n",
       " 21: 0.7896535188288208,\n",
       " 22: 0.7974433739012846,\n",
       " 23: 0.7991057779933562,\n",
       " 24: 0.7991057779933562,\n",
       " 25: 0.7991057779933562,\n",
       " 26: 0.8032724446600229,\n",
       " 27: 0.8032724446600229,\n",
       " 28: 0.8011891113266897,\n",
       " 29: 0.7994708982682704,\n",
       " 30: 0.7994708982682704,\n",
       " 31: 0.8030940866740676,\n",
       " 32: 0.8030940866740676,\n",
       " 33: 0.8108839417465313,\n",
       " 34: 0.8089231574328059,\n",
       " 35: 0.8089231574328059,\n",
       " 36: 0.8130898240994724,\n",
       " 37: 0.8111290397857469,\n",
       " 38: 0.8090457064524136,\n",
       " 39: 0.8073274933939943,\n",
       " 40: 0.811494160060661,\n",
       " 41: 0.811494160060661,\n",
       " 42: 0.8094108267273277,\n",
       " 43: 0.8130340151331247,\n",
       " 44: 0.8130340151331247,\n",
       " 45: 0.8130340151331247,\n",
       " 46: 0.8126130858918631,\n",
       " 47: 0.8126130858918631,\n",
       " 48: 0.8166419992702254,\n",
       " 49: 0.8208086659368922,\n",
       " 50: 0.8244318543426892,\n",
       " 51: 0.8285985210093557,\n",
       " 52: 0.8422986562358602,\n",
       " 53: 0.8439610603279318,\n",
       " 54: 0.8439610603279318,\n",
       " 55: 0.8497081867647136,\n",
       " 56: 0.8477474024509881,\n",
       " 57: 0.8438258338235372,\n",
       " 58: 0.8438258338235372,\n",
       " 59: 0.8438258338235372,\n",
       " 60: 0.8438258338235372,\n",
       " 61: 0.8459091671568704,\n",
       " 62: 0.8459091671568704,\n",
       " 63: 0.8459091671568704,\n",
       " 64: 0.843825833823537,\n",
       " 65: 0.843825833823537,\n",
       " 66: 0.8495323555626674,\n",
       " 67: 0.8460959294458289,\n",
       " 68: 0.8441351451321034,\n",
       " 69: 0.8424169320736842,\n",
       " 70: 0.8384953634462332,\n",
       " 71: 0.8348163660740884,\n",
       " 72: 0.8294191556435244,\n",
       " 73: 0.8299068249380465,\n",
       " 74: 0.8245096145074825,\n",
       " 75: 0.822548830193757,\n",
       " 76: 0.8242112342858285,\n",
       " 77: 0.8134168134247006,\n",
       " 78: 0.8025023703278742,\n",
       " 79: 0.7988233729557295,\n",
       " 80: 0.7970899556286138,\n",
       " 81: 0.797820196178442,\n",
       " 82: 0.7900970811592384,\n",
       " 83: 0.7992890380158618,\n",
       " 84: 0.7990312624918591,\n",
       " 85: 0.7946862378392368,\n",
       " 86: 0.7963892466289598,\n",
       " 87: 0.7874845968465131,\n",
       " 88: 0.7738850064052266,\n",
       " 89: 0.7496051398194171,\n",
       " 90: 0.7401080027754467,\n",
       " 91: 0.7400927985067502,\n",
       " 92: 0.7168009044295317,\n",
       " 93: 0.7040431724707688,\n",
       " 94: 0.6963284617545685,\n",
       " 95: 0.6700852840711239,\n",
       " 96: 0.6544606960467613,\n",
       " 97: 0.64365947521994,\n",
       " 98: 0.5902289266221952,\n",
       " 99: 0.5}"
      ]
     },
     "execution_count": 9,
     "metadata": {},
     "output_type": "execute_result"
    }
   ],
   "source": [
    "# BEST THRESHOLD IS 0.55\n",
    "scores = {}\n",
    "\n",
    "for i in range(1,100):\n",
    "    kf = KFold(n_splits=3, shuffle=True, random_state = 11)\n",
    "    roc_aucs = []\n",
    "    threshold = np.linspace(0,1,100)[i]\n",
    "    \n",
    "    for train_ind, val_ind in kf.split(X,y):\n",
    "        \n",
    "        X_train, y_train = X[train_ind], y[train_ind]\n",
    "        X_val, y_val = X[val_ind], y[val_ind] \n",
    "        \n",
    "        lr_model = linear_model.LogisticRegression(solver=\"lbfgs\")\n",
    "        lr_model.fit(X_train, y_train)\n",
    "        y_pred = (lr_model.predict_proba(X_val)[:, 1] >= threshold)\n",
    "\n",
    "        roc_aucs.append(roc_auc_score(y_val, y_pred))\n",
    "\n",
    "    scores[i] = np.mean(roc_aucs)\n",
    "    \n",
    "scores"
   ]
  },
  {
   "cell_type": "markdown",
   "metadata": {},
   "source": [
    "## Look for best features"
   ]
  },
  {
   "cell_type": "code",
   "execution_count": 10,
   "metadata": {},
   "outputs": [
    {
     "data": {
      "text/plain": [
       "{'Region_East Midlands': 0.33230918081648747,\n",
       " 'median_hourly_pay_growth': -0.46876797674034515,\n",
       " 'Region_East': 0.7479438904301375,\n",
       " 'Region_North East': -0.10007904926518246,\n",
       " 'Region_Yorkshire and The Humber': -0.21855727855433424,\n",
       " 'Region_North West': -0.24748785373350743,\n",
       " 'ResidentAge45to59share': 0.2445794971766845,\n",
       " 'Region_South West': -0.09934637927592774,\n",
       " 'NONEU_2001Migrantshare': -0.9772018169438317,\n",
       " 'Region_West Midlands': 0.3956670807363221,\n",
       " 'ResidentAge30to44share': 0.584723363924468,\n",
       " 'umemployment_rate_aps': 0.14957847306176147,\n",
       " 'Region_Wales': -0.3043902405261387,\n",
       " 'ResidentAge60plusshare': 0.40256323348628387,\n",
       " 'EU_2001Migrantshare': -1.4555419195927894,\n",
       " 'median_hourly_pay2005': -1.3007441556666792,\n",
       " 'Region_Scotland': -1.7945510989248623,\n",
       " 'Region_London': 0.5021408356625209,\n",
       " 'Region_South East': 0.3844081441570912}"
      ]
     },
     "execution_count": 10,
     "metadata": {},
     "output_type": "execute_result"
    }
   ],
   "source": [
    "# MOST IMPORTANT FEATURES PREDICTING REMAIN ARE PAY, MIGRANT SHARE, SCOTLAND\n",
    "importances = dict(set(zip(pd.get_dummies(df.loc[:, 'Region':'NONEU_2001Migrantshare']).columns, \n",
    "                lr_model.coef_[0])))\n",
    "\n",
    "importances"
   ]
  },
  {
   "cell_type": "code",
   "execution_count": 11,
   "metadata": {},
   "outputs": [
    {
     "data": {
      "text/plain": [
       "array([ 0.58472336,  0.2445795 ,  0.40256323, -1.30074416, -0.46876798,\n",
       "        0.14957847, -1.45554192, -0.97720182,  0.74794389,  0.33230918,\n",
       "        0.50214084, -0.10007905, -0.24748785, -1.7945511 ,  0.38440814,\n",
       "       -0.09934638, -0.30439024,  0.39566708, -0.21855728])"
      ]
     },
     "execution_count": 11,
     "metadata": {},
     "output_type": "execute_result"
    }
   ],
   "source": [
    "lr_model.coef_[0]"
   ]
  },
  {
   "cell_type": "code",
   "execution_count": null,
   "metadata": {},
   "outputs": [],
   "source": []
  }
 ],
 "metadata": {
  "kernelspec": {
   "display_name": "Python 3",
   "language": "python",
   "name": "python3"
  },
  "language_info": {
   "codemirror_mode": {
    "name": "ipython",
    "version": 3
   },
   "file_extension": ".py",
   "mimetype": "text/x-python",
   "name": "python",
   "nbconvert_exporter": "python",
   "pygments_lexer": "ipython3",
   "version": "3.7.6"
  }
 },
 "nbformat": 4,
 "nbformat_minor": 4
}
