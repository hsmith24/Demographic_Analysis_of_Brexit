{
 "cells": [
  {
   "cell_type": "code",
   "execution_count": 1,
   "metadata": {},
   "outputs": [],
   "source": [
    "import pandas as pd\n",
    "import numpy as np\n",
    "\n",
    "from sklearn import model_selection\n",
    "from sklearn import linear_model, svm, naive_bayes, neighbors, ensemble\n",
    "from sklearn.preprocessing import StandardScaler\n",
    "from sklearn.model_selection import cross_val_score, cross_validate, KFold\n",
    "from imblearn.over_sampling import RandomOverSampler\n",
    "from sklearn.metrics import accuracy_score, precision_score, recall_score, roc_auc_score\n",
    "from sklearn.ensemble import RandomForestClassifier\n",
    "from sklearn.inspection import permutation_importance"
   ]
  },
  {
   "cell_type": "markdown",
   "metadata": {},
   "source": [
    "## Call data, choose features and target"
   ]
  },
  {
   "cell_type": "code",
   "execution_count": 2,
   "metadata": {},
   "outputs": [],
   "source": [
    "df = pd.read_csv('../../data/processed/fetzer_processed_data.csv')"
   ]
  },
  {
   "cell_type": "code",
   "execution_count": 3,
   "metadata": {},
   "outputs": [],
   "source": [
    "X = pd.get_dummies(df.loc[:, 'Region':'NONEU_2001Migrantshare'])\n",
    "y = df.loc[:,'Leave?']\n",
    "# X, X_test, y, y_test = model_selection.train_test_split(X, y, test_size=0.2)"
   ]
  },
  {
   "cell_type": "code",
   "execution_count": 4,
   "metadata": {},
   "outputs": [],
   "source": [
    "scaler = StandardScaler()\n",
    "X = scaler.fit_transform(X)\n",
    "# X_test = scaler.transform(X_test)"
   ]
  },
  {
   "cell_type": "code",
   "execution_count": 5,
   "metadata": {},
   "outputs": [
    {
     "data": {
      "text/plain": [
       "1    262\n",
       "0    115\n",
       "Name: Leave?, dtype: int64"
      ]
     },
     "execution_count": 5,
     "metadata": {},
     "output_type": "execute_result"
    }
   ],
   "source": [
    "y.value_counts()"
   ]
  },
  {
   "cell_type": "markdown",
   "metadata": {},
   "source": [
    "## Make a Gaussian naive bayes cross validation"
   ]
  },
  {
   "cell_type": "code",
   "execution_count": 6,
   "metadata": {},
   "outputs": [
    {
     "name": "stdout",
     "output_type": "stream",
     "text": [
      "Accuracy: 0.756 +- 0.138\n",
      "Precision: 0.866 +- 0.027\n",
      "Recall: 0.747 +- 0.259\n",
      "ROC AUC: 0.742 +- 0.082\n"
     ]
    }
   ],
   "source": [
    "# GUASSIAN NAIVE BAYES ISNT SO GOOD\n",
    "kf = KFold(n_splits=3, shuffle=True, random_state = 11)\n",
    "accuracies = [] \n",
    "precisions = [] \n",
    "recalls = [] \n",
    "roc_aucs = []\n",
    "\n",
    "for train_ind, val_ind in kf.split(X,y):\n",
    "    \n",
    "    X_train, y_train = X[train_ind], y[train_ind]\n",
    "    X_val, y_val = X[val_ind], y[val_ind] \n",
    "    \n",
    "    nb_model = naive_bayes.GaussianNB()\n",
    "    nb_model.fit(X_train, y_train)\n",
    "    y_pred = (nb_model.predict_proba(X_val)[:, 1] >= 0.55)\n",
    "    \n",
    "    accuracies.append(accuracy_score(y_val, y_pred))\n",
    "    precisions.append(precision_score(y_val, y_pred))\n",
    "    recalls.append(recall_score(y_val, y_pred))\n",
    "    roc_aucs.append(roc_auc_score(y_val, y_pred))\n",
    "\n",
    "\n",
    "print(f'Accuracy: {np.mean(accuracies):.3f} +- {np.std(accuracies):.3f}')\n",
    "print(f'Precision: {np.mean(precisions):.3f} +- {np.std(precisions):.3f}')\n",
    "print(f'Recall: {np.mean(recalls):.3f} +- {np.std(recalls):.3f}')\n",
    "print(f'ROC AUC: {np.mean(roc_aucs):.3f} +- {np.std(roc_aucs):.3f}')"
   ]
  },
  {
   "cell_type": "markdown",
   "metadata": {},
   "source": [
    "## Bernoulli?"
   ]
  },
  {
   "cell_type": "code",
   "execution_count": 7,
   "metadata": {},
   "outputs": [
    {
     "name": "stdout",
     "output_type": "stream",
     "text": [
      "Accuracy: 0.812 +- 0.014\n",
      "Precision: 0.921 +- 0.039\n",
      "Recall: 0.798 +- 0.010\n",
      "ROC AUC: 0.822 +- 0.025\n"
     ]
    }
   ],
   "source": [
    "# BERNOULLI IS MUCH BETTER THAN GAUSSIAN\n",
    "kf = KFold(n_splits=3, shuffle=True, random_state = 11)\n",
    "accuracies = [] \n",
    "precisions = [] \n",
    "recalls = [] \n",
    "roc_aucs = []\n",
    "\n",
    "for train_ind, val_ind in kf.split(X,y):\n",
    "    \n",
    "    X_train, y_train = X[train_ind], y[train_ind]\n",
    "    X_val, y_val = X[val_ind], y[val_ind] \n",
    "    \n",
    "    nb_model = naive_bayes.BernoulliNB()\n",
    "    nb_model.fit(X_train, y_train)\n",
    "    y_pred = (nb_model.predict_proba(X_val)[:, 1] >= 0.77)\n",
    "    \n",
    "    accuracies.append(accuracy_score(y_val, y_pred))\n",
    "    precisions.append(precision_score(y_val, y_pred))\n",
    "    recalls.append(recall_score(y_val, y_pred))\n",
    "    roc_aucs.append(roc_auc_score(y_val, y_pred))\n",
    "\n",
    "\n",
    "print(f'Accuracy: {np.mean(accuracies):.3f} +- {np.std(accuracies):.3f}')\n",
    "print(f'Precision: {np.mean(precisions):.3f} +- {np.std(precisions):.3f}')\n",
    "print(f'Recall: {np.mean(recalls):.3f} +- {np.std(recalls):.3f}')\n",
    "print(f'ROC AUC: {np.mean(roc_aucs):.3f} +- {np.std(roc_aucs):.3f}')"
   ]
  },
  {
   "cell_type": "markdown",
   "metadata": {},
   "source": [
    "## Changing threshold"
   ]
  },
  {
   "cell_type": "code",
   "execution_count": 8,
   "metadata": {
    "scrolled": true
   },
   "outputs": [
    {
     "data": {
      "text/plain": [
       "{0: 0.5,\n",
       " 1: 0.5775487256371815,\n",
       " 2: 0.6181690404797601,\n",
       " 3: 0.6181690404797601,\n",
       " 4: 0.6223357071464268,\n",
       " 5: 0.6366612649557574,\n",
       " 6: 0.6449058540014408,\n",
       " 7: 0.6593108293488186,\n",
       " 8: 0.6671006844212825,\n",
       " 9: 0.6671006844212825,\n",
       " 10: 0.6787588259387589,\n",
       " 11: 0.6845059523755405,\n",
       " 12: 0.6845059523755405,\n",
       " 13: 0.6984486588573512,\n",
       " 14: 0.7025595165576702,\n",
       " 15: 0.7098058933692643,\n",
       " 16: 0.7098058933692643,\n",
       " 17: 0.7098058933692643,\n",
       " 18: 0.711468297461336,\n",
       " 19: 0.715091485867133,\n",
       " 20: 0.7112899394753806,\n",
       " 21: 0.723514432898772,\n",
       " 22: 0.7292615593355536,\n",
       " 23: 0.7292615593355536,\n",
       " 24: 0.7344246028138145,\n",
       " 25: 0.7426201828588436,\n",
       " 26: 0.7442825869509151,\n",
       " 27: 0.7421992536175818,\n",
       " 28: 0.7583224420233788,\n",
       " 29: 0.7712753405741036,\n",
       " 30: 0.7712753405741036,\n",
       " 31: 0.7737237941823509,\n",
       " 32: 0.7773469825881479,\n",
       " 33: 0.7773469825881479,\n",
       " 34: 0.7788868376606116,\n",
       " 35: 0.7882571525031906,\n",
       " 36: 0.8054985318135351,\n",
       " 37: 0.8096651984802019,\n",
       " 38: 0.8062287723633634,\n",
       " 39: 0.8098519607691607,\n",
       " 40: 0.8098519607691607,\n",
       " 41: 0.8081337477107414,\n",
       " 42: 0.8064155346523222,\n",
       " 43: 0.8064155346523222,\n",
       " 44: 0.8083205099997,\n",
       " 45: 0.8083205099997,\n",
       " 46: 0.8083205099997,\n",
       " 47: 0.8104038433330333,\n",
       " 48: 0.8120662474251049,\n",
       " 49: 0.8120662474251049,\n",
       " 50: 0.8099829140917715,\n",
       " 51: 0.8137692562148278,\n",
       " 52: 0.8098476875873768,\n",
       " 53: 0.8078869032736513,\n",
       " 54: 0.805803569940318,\n",
       " 55: 0.808009452293259,\n",
       " 56: 0.808009452293259,\n",
       " 57: 0.808009452293259,\n",
       " 58: 0.8038427856265923,\n",
       " 59: 0.8038427856265923,\n",
       " 60: 0.802124572568173,\n",
       " 61: 0.8004063595097538,\n",
       " 62: 0.8024896928430872,\n",
       " 63: 0.8027347908823029,\n",
       " 64: 0.8027347908823029,\n",
       " 65: 0.8063579792881,\n",
       " 66: 0.8042746459547668,\n",
       " 67: 0.8042746459547668,\n",
       " 68: 0.8042746459547668,\n",
       " 69: 0.8078978343605638,\n",
       " 70: 0.8115210227663608,\n",
       " 71: 0.8156876894330276,\n",
       " 72: 0.8156876894330276,\n",
       " 73: 0.8159327874722434,\n",
       " 74: 0.8180009165368801,\n",
       " 75: 0.8180009165368801,\n",
       " 76: 0.8216241049426771,\n",
       " 77: 0.8199058918842579,\n",
       " 78: 0.8162268945121133,\n",
       " 79: 0.8125478971399684,\n",
       " 80: 0.8125478971399684,\n",
       " 81: 0.8069081154540982,\n",
       " 82: 0.8034716893372598,\n",
       " 83: 0.8015109050235343,\n",
       " 84: 0.8015109050235343,\n",
       " 85: 0.7994275716902011,\n",
       " 86: 0.8051746981269826,\n",
       " 87: 0.797086462832865,\n",
       " 88: 0.7953682497744458,\n",
       " 89: 0.7773358564047267,\n",
       " 90: 0.7557647021698369,\n",
       " 91: 0.7498798224447509,\n",
       " 92: 0.7430179012979865,\n",
       " 93: 0.7323308251877699,\n",
       " 94: 0.7108880974915817,\n",
       " 95: 0.7043245565664712,\n",
       " 96: 0.6867391842283831,\n",
       " 97: 0.6289781238852982,\n",
       " 98: 0.5584702191051231,\n",
       " 99: 0.5}"
      ]
     },
     "execution_count": 8,
     "metadata": {},
     "output_type": "execute_result"
    }
   ],
   "source": [
    "# THRESHOLD FOR BERNOULLI SEEMS TO PEAK AT 0.77\n",
    "scores = {}\n",
    "\n",
    "for i in range(0,100):\n",
    "    kf = KFold(n_splits=3, shuffle=True, random_state = 11)\n",
    "    roc_aucs = []\n",
    "    threshold = np.linspace(0,1,100)[i]\n",
    "    \n",
    "    for train_ind, val_ind in kf.split(X,y):\n",
    "        \n",
    "        X_train, y_train = X[train_ind], y[train_ind]\n",
    "        X_val, y_val = X[val_ind], y[val_ind] \n",
    "        \n",
    "        nb_model = naive_bayes.BernoulliNB()\n",
    "        nb_model.fit(X_train, y_train)\n",
    "        y_pred = (nb_model.predict_proba(X_val)[:, 1] >= threshold)\n",
    "\n",
    "        roc_aucs.append(roc_auc_score(y_val, y_pred))\n",
    "\n",
    "    scores[i] = np.mean(roc_aucs)\n",
    "    \n",
    "scores"
   ]
  },
  {
   "cell_type": "code",
   "execution_count": null,
   "metadata": {},
   "outputs": [],
   "source": []
  }
 ],
 "metadata": {
  "kernelspec": {
   "display_name": "Python 3",
   "language": "python",
   "name": "python3"
  },
  "language_info": {
   "codemirror_mode": {
    "name": "ipython",
    "version": 3
   },
   "file_extension": ".py",
   "mimetype": "text/x-python",
   "name": "python",
   "nbconvert_exporter": "python",
   "pygments_lexer": "ipython3",
   "version": "3.7.6"
  }
 },
 "nbformat": 4,
 "nbformat_minor": 4
}
