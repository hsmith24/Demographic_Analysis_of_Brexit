{
 "cells": [
  {
   "cell_type": "code",
   "execution_count": 1,
   "metadata": {},
   "outputs": [],
   "source": [
    "import pandas as pd\n",
    "import numpy as np\n",
    "\n",
    "from sklearn import model_selection\n",
    "from sklearn import linear_model, svm, naive_bayes, neighbors, ensemble\n",
    "from sklearn.preprocessing import StandardScaler\n",
    "from sklearn.model_selection import cross_val_score, cross_validate, KFold\n",
    "from imblearn.over_sampling import RandomOverSampler\n",
    "from sklearn.metrics import accuracy_score, precision_score, recall_score, roc_auc_score\n",
    "from sklearn.ensemble import RandomForestClassifier\n",
    "from sklearn.inspection import permutation_importance\n",
    "import imblearn.over_sampling"
   ]
  },
  {
   "cell_type": "markdown",
   "metadata": {},
   "source": [
    "## Call data, choose features and target"
   ]
  },
  {
   "cell_type": "code",
   "execution_count": 2,
   "metadata": {},
   "outputs": [],
   "source": [
    "df = pd.read_csv('../../data/processed/fetzer_processed_data.csv')"
   ]
  },
  {
   "cell_type": "code",
   "execution_count": 3,
   "metadata": {},
   "outputs": [],
   "source": [
    "X = np.array(pd.get_dummies(df.loc[:, 'Region':'NONEU_2001Migrantshare']))\n",
    "y = np.array(df.loc[:,'Leave?'])\n",
    "# X, X_test, y, y_test = model_selection.train_test_split(X, y, test_size=0.2)"
   ]
  },
  {
   "cell_type": "code",
   "execution_count": 4,
   "metadata": {},
   "outputs": [],
   "source": [
    "# scaler = StandardScaler()\n",
    "# X = scaler.fit_transform(X)\n",
    "# # X_test = scaler.transform(X_test)"
   ]
  },
  {
   "cell_type": "markdown",
   "metadata": {},
   "source": [
    "## Make a random forest cross validation"
   ]
  },
  {
   "cell_type": "code",
   "execution_count": 5,
   "metadata": {},
   "outputs": [
    {
     "name": "stdout",
     "output_type": "stream",
     "text": [
      "Accuracy: 0.846 +- 0.016\n",
      "Precision: 0.878 +- 0.049\n",
      "Recall: 0.907 +- 0.030\n",
      "ROC AUC: 0.816 +- 0.023\n"
     ]
    }
   ],
   "source": [
    "# GUASSIAN NAIVE BAYES ISNT SO GOOD\n",
    "kf = KFold(n_splits=3, shuffle=True, random_state = 11)\n",
    "accuracies = [] \n",
    "precisions = [] \n",
    "recalls = [] \n",
    "roc_aucs = []\n",
    "\n",
    "for train_ind, val_ind in kf.split(X,y):\n",
    "    \n",
    "    X_train, y_train = X[train_ind], y[train_ind]\n",
    "    X_val, y_val = X[val_ind], y[val_ind] \n",
    "    \n",
    "    scaler = StandardScaler()\n",
    "    X_train = scaler.fit_transform(X_train)\n",
    "    X_val = scaler.fit_transform(X_val)\n",
    "    \n",
    "    rf_model = ensemble.RandomForestClassifier(n_estimators=28, random_state=3)\n",
    "    rf_model.fit(X_train, y_train)\n",
    "    y_pred = (rf_model.predict_proba(X_val)[:, 1] >= 0.55)\n",
    "    \n",
    "    accuracies.append(accuracy_score(y_val, y_pred))\n",
    "    precisions.append(precision_score(y_val, y_pred))\n",
    "    recalls.append(recall_score(y_val, y_pred))\n",
    "    roc_aucs.append(roc_auc_score(y_val, y_pred))\n",
    "\n",
    "\n",
    "print(f'Accuracy: {np.mean(accuracies):.3f} +- {np.std(accuracies):.3f}')\n",
    "print(f'Precision: {np.mean(precisions):.3f} +- {np.std(precisions):.3f}')\n",
    "print(f'Recall: {np.mean(recalls):.3f} +- {np.std(recalls):.3f}')\n",
    "print(f'ROC AUC: {np.mean(roc_aucs):.3f} +- {np.std(roc_aucs):.3f}')"
   ]
  },
  {
   "cell_type": "markdown",
   "metadata": {},
   "source": [
    "## Tuning the number of estimators"
   ]
  },
  {
   "cell_type": "code",
   "execution_count": 6,
   "metadata": {
    "scrolled": true
   },
   "outputs": [
    {
     "data": {
      "text/plain": [
       "{1: 0.7562153580577813,\n",
       " 2: 0.7672504617157765,\n",
       " 3: 0.7812195876743254,\n",
       " 4: 0.7936907834742423,\n",
       " 5: 0.8082242838556465,\n",
       " 6: 0.8068737178560509,\n",
       " 7: 0.8109627133825447,\n",
       " 8: 0.8012636097809192,\n",
       " 9: 0.802874478088427,\n",
       " 10: 0.8027628601557316,\n",
       " 11: 0.8006685957354858,\n",
       " 12: 0.8035699478944579,\n",
       " 13: 0.8003270840322713,\n",
       " 14: 0.7999061547910097,\n",
       " 15: 0.7984221086848934,\n",
       " 16: 0.807751818829821,\n",
       " 17: 0.8115533652215735,\n",
       " 18: 0.8233721336723997,\n",
       " 19: 0.8110656959270516,\n",
       " 20: 0.8365591991754275,\n",
       " 21: 0.8310310354222525,\n",
       " 22: 0.8269869177751937,\n",
       " 23: 0.8133273872463405,\n",
       " 24: 0.8242375571613829,\n",
       " 25: 0.819074513683122,\n",
       " 26: 0.8249035844418603,\n",
       " 27: 0.826864368755586,\n",
       " 28: 0.8321499612534545,\n",
       " 29: 0.8232411803497888,\n",
       " 30: 0.8293128223638333,\n",
       " 31: 0.819074513683122,\n",
       " 32: 0.826864368755586,\n",
       " 33: 0.8211578470164554,\n",
       " 34: 0.8226977020889192,\n",
       " 35: 0.8206143687555859,\n",
       " 36: 0.8226977020889192,\n",
       " 37: 0.8148672423188041,\n",
       " 38: 0.8232005756521374,\n",
       " 39: 0.8251613599658629,\n",
       " 40: 0.8234431469074437,\n",
       " 41: 0.8251613599658629,\n",
       " 42: 0.8268237640579347,\n",
       " 43: 0.8251613599658629,\n",
       " 44: 0.8251055509995154,\n",
       " 45: 0.8251055509995154,\n",
       " 46: 0.8251055509995154,\n",
       " 47: 0.8204512150383266,\n",
       " 48: 0.8245620727386459,\n",
       " 49: 0.8204512150383266,\n",
       " 50: 0.824439523719038,\n",
       " 51: 0.8183678817049934,\n",
       " 52: 0.820030285797065,\n",
       " 53: 0.820030285797065,\n",
       " 54: 0.8241969524637317,\n",
       " 55: 0.8205737640579346,\n",
       " 56: 0.8241969524637317,\n",
       " 57: 0.8205737640579346,\n",
       " 58: 0.8205737640579346,\n",
       " 59: 0.8205737640579346,\n",
       " 60: 0.8205737640579346,\n",
       " 61: 0.8169505756521375,\n",
       " 62: 0.8205737640579346,\n",
       " 63: 0.8169505756521375,\n",
       " 64: 0.8169505756521375,\n",
       " 65: 0.8169505756521375,\n",
       " 66: 0.8169505756521375,\n",
       " 67: 0.8169505756521375,\n",
       " 68: 0.8169505756521375,\n",
       " 69: 0.8127839089854708,\n",
       " 70: 0.8127839089854708,\n",
       " 71: 0.8127839089854708,\n",
       " 72: 0.8127839089854708,\n",
       " 73: 0.8091607205796737,\n",
       " 74: 0.8127839089854708,\n",
       " 75: 0.8127839089854708,\n",
       " 76: 0.8127839089854708,\n",
       " 77: 0.8127839089854708,\n",
       " 78: 0.8127839089854708,\n",
       " 79: 0.8127839089854708,\n",
       " 80: 0.8127839089854708,\n",
       " 81: 0.8127839089854708,\n",
       " 82: 0.8164070973912679,\n",
       " 83: 0.8164070973912679,\n",
       " 84: 0.8146888843328487,\n",
       " 85: 0.8164070973912679,\n",
       " 86: 0.820030285797065,\n",
       " 87: 0.8164070973912679,\n",
       " 88: 0.820030285797065,\n",
       " 89: 0.8164070973912679,\n",
       " 90: 0.8164070973912679,\n",
       " 91: 0.8091607205796737,\n",
       " 92: 0.8146888843328487,\n",
       " 93: 0.8110656959270516,\n",
       " 94: 0.8188555509995153,\n",
       " 95: 0.8169505756521375,\n",
       " 96: 0.8152323625937182,\n",
       " 97: 0.8169505756521375,\n",
       " 98: 0.8169505756521375,\n",
       " 99: 0.8169505756521375}"
      ]
     },
     "execution_count": 6,
     "metadata": {},
     "output_type": "execute_result"
    }
   ],
   "source": [
    "# BEST NUMBER OF ESTIMATORS IS 28\n",
    "scores = {}\n",
    "\n",
    "for i in range(1,100):\n",
    "    kf = KFold(n_splits=3, shuffle=True, random_state = 11)\n",
    "    roc_aucs = []\n",
    "    \n",
    "    for train_ind, val_ind in kf.split(X,y):\n",
    "        \n",
    "        X_train, y_train = X[train_ind], y[train_ind]\n",
    "        X_val, y_val = X[val_ind], y[val_ind] \n",
    "        \n",
    "        rf_model = ensemble.RandomForestClassifier(n_estimators=i, random_state=3)\n",
    "        rf_model.fit(X_train, y_train)\n",
    "        y_pred = rf_model.predict(X_val)\n",
    "\n",
    "        roc_aucs.append(roc_auc_score(y_val, y_pred))\n",
    "\n",
    "    scores[i] = np.mean(roc_aucs)\n",
    "    \n",
    "scores"
   ]
  },
  {
   "cell_type": "markdown",
   "metadata": {},
   "source": [
    "## Entropy criterion?"
   ]
  },
  {
   "cell_type": "code",
   "execution_count": 7,
   "metadata": {},
   "outputs": [
    {
     "name": "stdout",
     "output_type": "stream",
     "text": [
      "Accuracy: 0.854 +- 0.020\n",
      "Precision: 0.871 +- 0.045\n",
      "Recall: 0.928 +- 0.028\n",
      "ROC AUC: 0.811 +- 0.018\n"
     ]
    }
   ],
   "source": [
    "# ENTROPY CRITERION IS NOT AS GOOD\n",
    "kf = KFold(n_splits=3, shuffle=True, random_state = 11)\n",
    "accuracies = [] \n",
    "precisions = [] \n",
    "recalls = [] \n",
    "roc_aucs = []\n",
    "\n",
    "for train_ind, val_ind in kf.split(X,y):\n",
    "    \n",
    "    X_train, y_train = X[train_ind], y[train_ind]\n",
    "    X_val, y_val = X[val_ind], y[val_ind] \n",
    "    \n",
    "    rf_model = ensemble.RandomForestClassifier(n_estimators=28, random_state=3, criterion='entropy')\n",
    "    rf_model.fit(X_train, y_train)\n",
    "    y_pred = (rf_model.predict_proba(X_val)[:, 1] >= 0.55)\n",
    "    \n",
    "    accuracies.append(accuracy_score(y_val, y_pred))\n",
    "    precisions.append(precision_score(y_val, y_pred))\n",
    "    recalls.append(recall_score(y_val, y_pred))\n",
    "    roc_aucs.append(roc_auc_score(y_val, y_pred))\n",
    "\n",
    "\n",
    "print(f'Accuracy: {np.mean(accuracies):.3f} +- {np.std(accuracies):.3f}')\n",
    "print(f'Precision: {np.mean(precisions):.3f} +- {np.std(precisions):.3f}')\n",
    "print(f'Recall: {np.mean(recalls):.3f} +- {np.std(recalls):.3f}')\n",
    "print(f'ROC AUC: {np.mean(roc_aucs):.3f} +- {np.std(roc_aucs):.3f}')"
   ]
  },
  {
   "cell_type": "markdown",
   "metadata": {},
   "source": [
    "## Changing threshold"
   ]
  },
  {
   "cell_type": "code",
   "execution_count": 8,
   "metadata": {
    "scrolled": true
   },
   "outputs": [
    {
     "data": {
      "text/plain": [
       "{1: 0.5447776111944028,\n",
       " 2: 0.5447776111944028,\n",
       " 3: 0.5447776111944028,\n",
       " 4: 0.5754747626186907,\n",
       " 5: 0.5754747626186907,\n",
       " 6: 0.5754747626186907,\n",
       " 7: 0.5754747626186907,\n",
       " 8: 0.5930000528086472,\n",
       " 9: 0.5930000528086472,\n",
       " 10: 0.5930000528086472,\n",
       " 11: 0.6203985314044009,\n",
       " 12: 0.6203985314044009,\n",
       " 13: 0.6203985314044009,\n",
       " 14: 0.6203985314044009,\n",
       " 15: 0.6782196208596732,\n",
       " 16: 0.6782196208596732,\n",
       " 17: 0.6782196208596732,\n",
       " 18: 0.7128079323740192,\n",
       " 19: 0.7128079323740192,\n",
       " 20: 0.7128079323740192,\n",
       " 21: 0.7128079323740192,\n",
       " 22: 0.7455478124339893,\n",
       " 23: 0.7455478124339893,\n",
       " 24: 0.7455478124339893,\n",
       " 25: 0.7627079823490317,\n",
       " 26: 0.7627079823490317,\n",
       " 27: 0.7627079823490317,\n",
       " 28: 0.7627079823490317,\n",
       " 29: 0.7684551087858132,\n",
       " 30: 0.7684551087858132,\n",
       " 31: 0.7684551087858132,\n",
       " 32: 0.7882268860263623,\n",
       " 33: 0.7882268860263623,\n",
       " 34: 0.7882268860263623,\n",
       " 35: 0.7882268860263623,\n",
       " 36: 0.7957995702724744,\n",
       " 37: 0.7957995702724744,\n",
       " 38: 0.7957995702724744,\n",
       " 39: 0.7918780016450234,\n",
       " 40: 0.7918780016450234,\n",
       " 41: 0.7918780016450234,\n",
       " 42: 0.7918780016450234,\n",
       " 43: 0.8054149831542688,\n",
       " 44: 0.8054149831542688,\n",
       " 45: 0.8054149831542688,\n",
       " 46: 0.8194548382267325,\n",
       " 47: 0.8194548382267325,\n",
       " 48: 0.8194548382267325,\n",
       " 49: 0.8194548382267325,\n",
       " 50: 0.8321499612534545,\n",
       " 51: 0.8321499612534545,\n",
       " 52: 0.8321499612534545,\n",
       " 53: 0.8321499612534545,\n",
       " 54: 0.8410757818483118,\n",
       " 55: 0.8410757818483118,\n",
       " 56: 0.8410757818483118,\n",
       " 57: 0.8334726890648065,\n",
       " 58: 0.8334726890648065,\n",
       " 59: 0.8334726890648065,\n",
       " 60: 0.8334726890648065,\n",
       " 61: 0.8269674838899531,\n",
       " 62: 0.8269674838899531,\n",
       " 63: 0.8269674838899531,\n",
       " 64: 0.8287633680885452,\n",
       " 65: 0.8287633680885452,\n",
       " 66: 0.8287633680885452,\n",
       " 67: 0.8287633680885452,\n",
       " 68: 0.8099449252026503,\n",
       " 69: 0.8099449252026503,\n",
       " 70: 0.8099449252026503,\n",
       " 71: 0.8047860128456087,\n",
       " 72: 0.8047860128456087,\n",
       " 73: 0.8047860128456087,\n",
       " 74: 0.8047860128456087,\n",
       " 75: 0.7876883098020425,\n",
       " 76: 0.7876883098020425,\n",
       " 77: 0.7876883098020425,\n",
       " 78: 0.7596736368777407,\n",
       " 79: 0.7596736368777407,\n",
       " 80: 0.7596736368777407,\n",
       " 81: 0.7596736368777407,\n",
       " 82: 0.7377922488876848,\n",
       " 83: 0.7377922488876848,\n",
       " 84: 0.7377922488876848,\n",
       " 85: 0.6900014819758101,\n",
       " 86: 0.6900014819758101,\n",
       " 87: 0.6900014819758101,\n",
       " 88: 0.6900014819758101,\n",
       " 89: 0.6457951341945765,\n",
       " 90: 0.6457951341945765,\n",
       " 91: 0.6457951341945765,\n",
       " 92: 0.5969251672677913,\n",
       " 93: 0.5969251672677913,\n",
       " 94: 0.5969251672677913,\n",
       " 95: 0.5969251672677913,\n",
       " 96: 0.5463589479517367,\n",
       " 97: 0.5463589479517367,\n",
       " 98: 0.5463589479517367,\n",
       " 99: 0.5463589479517367}"
      ]
     },
     "execution_count": 8,
     "metadata": {},
     "output_type": "execute_result"
    }
   ],
   "source": [
    "# BEST THRESHOLD IS 0.55\n",
    "scores = {}\n",
    "\n",
    "for i in range(1,100):\n",
    "    kf = KFold(n_splits=3, shuffle=True, random_state = 11)\n",
    "    roc_aucs = []\n",
    "    threshold = np.linspace(0,1,100)[i]\n",
    "    \n",
    "    for train_ind, val_ind in kf.split(X,y):\n",
    "        \n",
    "        X_train, y_train = X[train_ind], y[train_ind]\n",
    "        X_val, y_val = X[val_ind], y[val_ind] \n",
    "        \n",
    "        rf_model = ensemble.RandomForestClassifier(n_estimators=28, random_state=3)\n",
    "        rf_model.fit(X_train, y_train)\n",
    "        y_pred = (rf_model.predict_proba(X_val)[:, 1] >= threshold)\n",
    "\n",
    "        roc_aucs.append(roc_auc_score(y_val, y_pred))\n",
    "\n",
    "    scores[i] = np.mean(roc_aucs)\n",
    "    \n",
    "scores"
   ]
  },
  {
   "cell_type": "markdown",
   "metadata": {},
   "source": [
    "## Look for best features"
   ]
  },
  {
   "cell_type": "code",
   "execution_count": 9,
   "metadata": {},
   "outputs": [
    {
     "data": {
      "text/plain": [
       "{'ResidentAge30to44share': 0.08644051158337417,\n",
       " 'Region_Yorkshire and The Humber': 0.007406049245568374,\n",
       " 'NONEU_2001Migrantshare': 0.1060083331040884,\n",
       " 'Region_South West': 0.006599677945901201,\n",
       " 'umemployment_rate_aps': 0.06914253729100198,\n",
       " 'Region_North East': 0.0028162109230056393,\n",
       " 'Region_London': 0.006117196777744192,\n",
       " 'ResidentAge60plusshare': 0.06209856509740582,\n",
       " 'Region_East': 0.01595131938937253,\n",
       " 'Region_East Midlands': 0.006544456497624801,\n",
       " 'Region_North West': 0.006327596950378685,\n",
       " 'Region_Scotland': 0.16576950675467045,\n",
       " 'Region_South East': 0.014125195055531599,\n",
       " 'median_hourly_pay_growth': 0.0912303625381462,\n",
       " 'EU_2001Migrantshare': 0.1416997253293415,\n",
       " 'Region_Wales': 0.009232456572644732,\n",
       " 'median_hourly_pay2005': 0.10836513676053076,\n",
       " 'Region_West Midlands': 0.0046820066710400446,\n",
       " 'ResidentAge45to59share': 0.08944315551262894}"
      ]
     },
     "execution_count": 9,
     "metadata": {},
     "output_type": "execute_result"
    }
   ],
   "source": [
    "# MOST IMPORTANT FEATURES PREDICTING REMAIN ARE PAY, MIGRANT SHARE, SCOTLAND\n",
    "importances = dict(set(zip(pd.get_dummies(df.loc[:, 'Region':'NONEU_2001Migrantshare']).columns, \n",
    "                rf_model.feature_importances_)))\n",
    "\n",
    "importances"
   ]
  },
  {
   "cell_type": "code",
   "execution_count": null,
   "metadata": {},
   "outputs": [],
   "source": []
  }
 ],
 "metadata": {
  "kernelspec": {
   "display_name": "Python 3",
   "language": "python",
   "name": "python3"
  },
  "language_info": {
   "codemirror_mode": {
    "name": "ipython",
    "version": 3
   },
   "file_extension": ".py",
   "mimetype": "text/x-python",
   "name": "python",
   "nbconvert_exporter": "python",
   "pygments_lexer": "ipython3",
   "version": "3.7.6"
  }
 },
 "nbformat": 4,
 "nbformat_minor": 4
}
