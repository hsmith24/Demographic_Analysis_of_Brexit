{
 "cells": [
  {
   "cell_type": "code",
   "execution_count": 1,
   "metadata": {},
   "outputs": [],
   "source": [
    "import pandas as pd\n",
    "import numpy as np\n",
    "\n",
    "from sklearn import model_selection\n",
    "from sklearn import linear_model, svm, naive_bayes, neighbors, ensemble\n",
    "from sklearn.preprocessing import StandardScaler\n",
    "from sklearn.model_selection import cross_val_score, cross_validate, KFold\n",
    "from imblearn.over_sampling import RandomOverSampler\n",
    "from sklearn.metrics import accuracy_score, precision_score, recall_score, roc_auc_score\n",
    "from sklearn.ensemble import RandomForestClassifier\n",
    "from sklearn.inspection import permutation_importance"
   ]
  },
  {
   "cell_type": "markdown",
   "metadata": {},
   "source": [
    "## Call data, choose features and target"
   ]
  },
  {
   "cell_type": "code",
   "execution_count": 2,
   "metadata": {},
   "outputs": [],
   "source": [
    "df = pd.read_csv('../../data/processed/fetzer_processed_data.csv')"
   ]
  },
  {
   "cell_type": "code",
   "execution_count": 3,
   "metadata": {},
   "outputs": [],
   "source": [
    "X = pd.get_dummies(df.loc[:, 'Region':'NONEU_2001Migrantshare'])\n",
    "y = df.loc[:,'Leave?']\n",
    "# X, X_test, y, y_test = model_selection.train_test_split(X, y, test_size=0.2)"
   ]
  },
  {
   "cell_type": "code",
   "execution_count": 4,
   "metadata": {},
   "outputs": [],
   "source": [
    "scaler = StandardScaler()\n",
    "X = scaler.fit_transform(X)\n",
    "# X_test = scaler.transform(X_test)"
   ]
  },
  {
   "cell_type": "code",
   "execution_count": 5,
   "metadata": {},
   "outputs": [
    {
     "data": {
      "text/plain": [
       "1    262\n",
       "0    115\n",
       "Name: Leave?, dtype: int64"
      ]
     },
     "execution_count": 5,
     "metadata": {},
     "output_type": "execute_result"
    }
   ],
   "source": [
    "y.value_counts()"
   ]
  },
  {
   "cell_type": "markdown",
   "metadata": {},
   "source": [
    "## Make a random forest cross validation"
   ]
  },
  {
   "cell_type": "code",
   "execution_count": 6,
   "metadata": {},
   "outputs": [
    {
     "name": "stdout",
     "output_type": "stream",
     "text": [
      "Accuracy: 0.867 +- 0.013\n",
      "Precision: 0.866 +- 0.019\n",
      "Recall: 0.958 +- 0.015\n",
      "ROC AUC: 0.810 +- 0.022\n"
     ]
    }
   ],
   "source": [
    "kf = KFold(n_splits=3, shuffle=True, random_state = 13)\n",
    "accuracies = [] \n",
    "precisions = [] \n",
    "recalls = [] \n",
    "roc_aucs = []\n",
    "\n",
    "for train_ind, val_ind in kf.split(X,y):\n",
    "    \n",
    "    X_train, y_train = X[train_ind], y[train_ind]\n",
    "    X_val, y_val = X[val_ind], y[val_ind] \n",
    "    \n",
    "    svc_model = svm.SVC(probability=True, gamma=\"scale\")\n",
    "    svc_model.fit(X_train, y_train)\n",
    "    y_pred = (svc_model.predict_proba(X_val)[:, 1] >= 0.55)\n",
    "    \n",
    "    accuracies.append(accuracy_score(y_val, y_pred))\n",
    "    precisions.append(precision_score(y_val, y_pred))\n",
    "    recalls.append(recall_score(y_val, y_pred))\n",
    "    roc_aucs.append(roc_auc_score(y_val, y_pred))\n",
    "\n",
    "\n",
    "print(f'Accuracy: {np.mean(accuracies):.3f} +- {np.std(accuracies):.3f}')\n",
    "print(f'Precision: {np.mean(precisions):.3f} +- {np.std(precisions):.3f}')\n",
    "print(f'Recall: {np.mean(recalls):.3f} +- {np.std(recalls):.3f}')\n",
    "print(f'ROC AUC: {np.mean(roc_aucs):.3f} +- {np.std(roc_aucs):.3f}')"
   ]
  },
  {
   "cell_type": "markdown",
   "metadata": {},
   "source": [
    "## Tuning C-value"
   ]
  },
  {
   "cell_type": "code",
   "execution_count": 7,
   "metadata": {
    "scrolled": true
   },
   "outputs": [
    {
     "data": {
      "text/plain": [
       "{1e-05: 0.6802255936919351,\n",
       " 0.0001: 0.6825116739689586,\n",
       " 0.001: 0.7788007622174359,\n",
       " 0.01: 0.7860471390290301,\n",
       " 0.1: 0.7902138056956968,\n",
       " 1: 0.8076596783476061,\n",
       " 10: 0.7881743842299591,\n",
       " 100: 0.7765888602848364,\n",
       " 1000: 0.7629902358553894,\n",
       " 10000: 0.7737778567508241}"
      ]
     },
     "execution_count": 7,
     "metadata": {},
     "output_type": "execute_result"
    }
   ],
   "source": [
    "# BEST C-VALUE IS 1\n",
    "scores = {}\n",
    "c_values = [0.00001, 0.0001, 0.001, 0.01, 0.1, 1, 10, 100, 1000, 10000]\n",
    "\n",
    "for i in range(0,10):\n",
    "    kf = KFold(n_splits=3, shuffle=True, random_state = 11)\n",
    "    roc_aucs = []\n",
    "    c_value = c_values[i]\n",
    "    \n",
    "    for train_ind, val_ind in kf.split(X,y):\n",
    "        \n",
    "        X_train, y_train = X[train_ind], y[train_ind]\n",
    "        X_val, y_val = X[val_ind], y[val_ind] \n",
    "        \n",
    "        svc_model = svm.SVC(probability=True, gamma=\"scale\", C=c_value)\n",
    "        svc_model.fit(X_train, y_train)\n",
    "        y_pred = (svc_model.predict_proba(X_val)[:, 1] >= 0.55)\n",
    "\n",
    "        roc_aucs.append(roc_auc_score(y_val, y_pred))\n",
    "\n",
    "    scores[c_value] = np.mean(roc_aucs)\n",
    "    \n",
    "scores"
   ]
  },
  {
   "cell_type": "markdown",
   "metadata": {},
   "source": [
    "## Auto gamma?"
   ]
  },
  {
   "cell_type": "code",
   "execution_count": 8,
   "metadata": {},
   "outputs": [
    {
     "name": "stdout",
     "output_type": "stream",
     "text": [
      "Accuracy: 0.862 +- 0.016\n",
      "Precision: 0.863 +- 0.021\n",
      "Recall: 0.954 +- 0.017\n",
      "ROC AUC: 0.803 +- 0.026\n"
     ]
    }
   ],
   "source": [
    "# AUTO GAMMA IS NOT AS GOOD\n",
    "kf = KFold(n_splits=3, shuffle=True, random_state = 13)\n",
    "accuracies = [] \n",
    "precisions = [] \n",
    "recalls = [] \n",
    "roc_aucs = []\n",
    "\n",
    "for train_ind, val_ind in kf.split(X,y):\n",
    "    \n",
    "    X_train, y_train = X[train_ind], y[train_ind]\n",
    "    X_val, y_val = X[val_ind], y[val_ind] \n",
    "    \n",
    "    svc_model = svm.SVC(probability=True, gamma=\"auto\")\n",
    "    svc_model.fit(X_train, y_train)\n",
    "    y_pred = (svc_model.predict_proba(X_val)[:, 1] >= 0.55)\n",
    "    \n",
    "    accuracies.append(accuracy_score(y_val, y_pred))\n",
    "    precisions.append(precision_score(y_val, y_pred))\n",
    "    recalls.append(recall_score(y_val, y_pred))\n",
    "    roc_aucs.append(roc_auc_score(y_val, y_pred))\n",
    "\n",
    "\n",
    "print(f'Accuracy: {np.mean(accuracies):.3f} +- {np.std(accuracies):.3f}')\n",
    "print(f'Precision: {np.mean(precisions):.3f} +- {np.std(precisions):.3f}')\n",
    "print(f'Recall: {np.mean(recalls):.3f} +- {np.std(recalls):.3f}')\n",
    "print(f'ROC AUC: {np.mean(roc_aucs):.3f} +- {np.std(roc_aucs):.3f}')"
   ]
  },
  {
   "cell_type": "markdown",
   "metadata": {},
   "source": [
    "## False probability?"
   ]
  },
  {
   "cell_type": "code",
   "execution_count": 9,
   "metadata": {},
   "outputs": [
    {
     "name": "stdout",
     "output_type": "stream",
     "text": [
      "Accuracy: 0.870 +- 0.019\n",
      "Precision: 0.859 +- 0.024\n",
      "Recall: 0.973 +- 0.011\n",
      "ROC AUC: 0.804 +- 0.033\n"
     ]
    }
   ],
   "source": [
    "## TRUE PROBABILITY WITH THRESHOLD OF 0.55 IS BETTER\n",
    "kf = KFold(n_splits=3, shuffle=True, random_state = 13)\n",
    "accuracies = [] \n",
    "precisions = [] \n",
    "recalls = [] \n",
    "roc_aucs = []\n",
    "\n",
    "for train_ind, val_ind in kf.split(X,y):\n",
    "    \n",
    "    X_train, y_train = X[train_ind], y[train_ind]\n",
    "    X_val, y_val = X[val_ind], y[val_ind] \n",
    "    \n",
    "    svc_model = svm.SVC(gamma=\"scale\")\n",
    "    svc_model.fit(X_train, y_train)\n",
    "    y_pred = svc_model.predict(X_val)\n",
    "    \n",
    "    accuracies.append(accuracy_score(y_val, y_pred))\n",
    "    precisions.append(precision_score(y_val, y_pred))\n",
    "    recalls.append(recall_score(y_val, y_pred))\n",
    "    roc_aucs.append(roc_auc_score(y_val, y_pred))\n",
    "\n",
    "\n",
    "print(f'Accuracy: {np.mean(accuracies):.3f} +- {np.std(accuracies):.3f}')\n",
    "print(f'Precision: {np.mean(precisions):.3f} +- {np.std(precisions):.3f}')\n",
    "print(f'Recall: {np.mean(recalls):.3f} +- {np.std(recalls):.3f}')\n",
    "print(f'ROC AUC: {np.mean(roc_aucs):.3f} +- {np.std(roc_aucs):.3f}')"
   ]
  },
  {
   "cell_type": "markdown",
   "metadata": {},
   "source": [
    "## Tuning threshold"
   ]
  },
  {
   "cell_type": "code",
   "execution_count": 10,
   "metadata": {
    "scrolled": true
   },
   "outputs": [
    {
     "data": {
      "text/plain": [
       "{0: 0.5,\n",
       " 1: 0.5077898550724638,\n",
       " 2: 0.5608195902048975,\n",
       " 3: 0.6096826586706647,\n",
       " 4: 0.6075087456271865,\n",
       " 5: 0.6486319340329836,\n",
       " 6: 0.6704928785607196,\n",
       " 7: 0.6934813843078461,\n",
       " 8: 0.694487131434283,\n",
       " 9: 0.7226792853573213,\n",
       " 10: 0.7117285107446275,\n",
       " 11: 0.7381618469115958,\n",
       " 12: 0.7381618469115958,\n",
       " 13: 0.7439089733483772,\n",
       " 14: 0.7475321617541745,\n",
       " 15: 0.7439089733483772,\n",
       " 16: 0.7402299759762326,\n",
       " 17: 0.7419481890346519,\n",
       " 18: 0.7459771024130143,\n",
       " 19: 0.7668104357463476,\n",
       " 20: 0.7475169574854781,\n",
       " 21: 0.7683502908188115,\n",
       " 22: 0.7683502908188115,\n",
       " 23: 0.7666320777603922,\n",
       " 24: 0.7723792041971738,\n",
       " 25: 0.780712537530507,\n",
       " 26: 0.7848792041971736,\n",
       " 27: 0.7885023926029708,\n",
       " 28: 0.79220679040407,\n",
       " 29: 0.780712537530507,\n",
       " 30: 0.7984161857064191,\n",
       " 31: 0.7879995190397523,\n",
       " 32: 0.8020799788098674,\n",
       " 33: 0.8020799788098674,\n",
       " 34: 0.8020799788098674,\n",
       " 35: 0.8020799788098674,\n",
       " 36: 0.8020799788098674,\n",
       " 37: 0.7981584101824164,\n",
       " 38: 0.7981584101824164,\n",
       " 39: 0.8001191944961419,\n",
       " 40: 0.8020241698435197,\n",
       " 41: 0.7983451724713749,\n",
       " 42: 0.8000633855297942,\n",
       " 43: 0.8000633855297942,\n",
       " 44: 0.8000633855297942,\n",
       " 45: 0.7983451724713749,\n",
       " 46: 0.7983451724713749,\n",
       " 47: 0.7966269594129557,\n",
       " 48: 0.7966269594129557,\n",
       " 49: 0.8023740858497375,\n",
       " 50: 0.8045799682026785,\n",
       " 51: 0.8118263450142728,\n",
       " 52: 0.8004133015360119,\n",
       " 53: 0.8118263450142728,\n",
       " 54: 0.8118263450142728,\n",
       " 55: 0.8096204626613316,\n",
       " 56: 0.8118263450142728,\n",
       " 57: 0.8118263450142728,\n",
       " 58: 0.814032227367214,\n",
       " 59: 0.814032227367214,\n",
       " 60: 0.8101081319558534,\n",
       " 61: 0.8123140143087947,\n",
       " 62: 0.8102306809754612,\n",
       " 63: 0.804590899289591,\n",
       " 64: 0.804590899289591,\n",
       " 65: 0.804590899289591,\n",
       " 66: 0.8006693306621401,\n",
       " 67: 0.7985859973288069,\n",
       " 68: 0.8043331237655883,\n",
       " 69: 0.8101621945243266,\n",
       " 70: 0.8065390061185296,\n",
       " 71: 0.8122861325553111,\n",
       " 72: 0.8159760610143686,\n",
       " 73: 0.8142578479559491,\n",
       " 74: 0.8106430638531553,\n",
       " 75: 0.8106430638531553,\n",
       " 76: 0.8067214952257044,\n",
       " 77: 0.8086264705730821,\n",
       " 78: 0.8168245774020207,\n",
       " 79: 0.8114273669714568,\n",
       " 80: 0.8129672220439205,\n",
       " 81: 0.7854452719819592,\n",
       " 82: 0.7830635584269721,\n",
       " 83: 0.7927837892757683,\n",
       " 84: 0.7841217107486281,\n",
       " 85: 0.7785892738136693,\n",
       " 86: 0.767187161422321,\n",
       " 87: 0.7419479409021991,\n",
       " 88: 0.7384076097942538,\n",
       " 89: 0.70778463671439,\n",
       " 90: 0.6554393418057497,\n",
       " 91: 0.6166860569866673,\n",
       " 92: 0.5935167119290566,\n",
       " 93: 0.5365779435933943,\n",
       " 94: 0.540198605215282,\n",
       " 95: 0.5080882352941176,\n",
       " 96: 0.5,\n",
       " 97: 0.5,\n",
       " 98: 0.5,\n",
       " 99: 0.5}"
      ]
     },
     "execution_count": 10,
     "metadata": {},
     "output_type": "execute_result"
    }
   ],
   "source": [
    "# BEST THRESHOLD IS 0.55\n",
    "scores = {}\n",
    "\n",
    "for i in range(0,100):\n",
    "    kf = KFold(n_splits=3, shuffle=True, random_state = 11)\n",
    "    roc_aucs = []\n",
    "    threshold = np.linspace(0,1,100)[i]\n",
    "    \n",
    "    for train_ind, val_ind in kf.split(X,y):\n",
    "        \n",
    "        X_train, y_train = X[train_ind], y[train_ind]\n",
    "        X_val, y_val = X[val_ind], y[val_ind] \n",
    "        \n",
    "        svc_model = svm.SVC(probability=True, gamma=\"scale\")\n",
    "        svc_model.fit(X_train, y_train)\n",
    "        y_pred = (svc_model.predict_proba(X_val)[:, 1] >= threshold)\n",
    "\n",
    "        roc_aucs.append(roc_auc_score(y_val, y_pred))\n",
    "\n",
    "    scores[i] = np.mean(roc_aucs)\n",
    "    \n",
    "scores"
   ]
  }
 ],
 "metadata": {
  "kernelspec": {
   "display_name": "Python 3",
   "language": "python",
   "name": "python3"
  },
  "language_info": {
   "codemirror_mode": {
    "name": "ipython",
    "version": 3
   },
   "file_extension": ".py",
   "mimetype": "text/x-python",
   "name": "python",
   "nbconvert_exporter": "python",
   "pygments_lexer": "ipython3",
   "version": "3.7.6"
  }
 },
 "nbformat": 4,
 "nbformat_minor": 4
}
